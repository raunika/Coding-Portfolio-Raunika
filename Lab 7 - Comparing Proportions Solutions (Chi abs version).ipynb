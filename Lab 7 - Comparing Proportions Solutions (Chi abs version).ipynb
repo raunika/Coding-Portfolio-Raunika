{
 "cells": [
  {
   "cell_type": "markdown",
   "metadata": {
    "collapsed": false
   },
   "source": [
    "# Lab 7: Comparing Proportions\n",
    "\n",
    "The HIV virus is transmitted through four bodily fluids: blood, semen, vaginal/anal fluid, and breast milk. Any time that infected fluids of these types come into contact with an unifected person's blood stream or mucosa, HIV infection may occur. In the United States, the most common activities where these infections happen are sexual activity, particularly anal intercourse, and intravenous drug use. \n",
    "\n",
    "There are many effective ways to prevent HIV. To counteract risk from sexual intercourse, condoms can be used to prevent HIV transmission. However, condoms are only reliable if used correctly every time. Even then, condoms can tear or slip, reducing their effectiveness at preventing HIV (as well as other STIs and pregnancy). Because of this and other things like personal preference, many people find using condoms difficult. In addition, some may not be in a position to insist that their partner use a condom.\n",
    "\n",
    "A different approach to HIV prevention is through medication. Since the 1990s and 2000s, effective and easy-to-use drugs have been developed to combat HIV. In the 2010's a new form of HIV prevention was developed that works by giving uninfected individuals low doses of the same drugs used to treat HIV in order to prevent infection. The basic principle is that these drugs prevent any HIV viruses that have entered the body from reproducing, thus not allowing an infection to establish. This approach is called pre-exposure prophylaxis, or PrEP. (PrEP is currently a widely available and commonly used medication that your primary care doctor can prescribe.)\n",
    "\n",
    "Here is some real data from a clinical trial of a PrEP drug (<a href=\"http://dx.doi.org/10.1056/NEJMoa1011205\">Grant et al. 2010. New England Journal of Medicine</a>). Note that, as in many clinical trials, some participants took the drug less often than prescribed.\n",
    "\n",
    "<table>\n",
    "    <tr>\n",
    "        <th> </th>\n",
    "        <th>Drug</th>\n",
    "        <th>Placebo</th>\n",
    "    </tr>\n",
    "    <tr>\n",
    "        <th>Infected</th>\n",
    "        <td>36</td>\n",
    "        <td>64</td>\n",
    "    </tr>\n",
    "    <tr>\n",
    "        <th>Not Infected</th>\n",
    "        <td>1215</td>\n",
    "        <td>1184</td>\n",
    "    </tr>\n",
    "</table>\n",
    "\n",
    "We need to run a statistical analysis to make sure the drug works.\n",
    "\n"
   ]
  },
  {
   "cell_type": "markdown",
   "metadata": {
    "collapsed": false
   },
   "source": [
    "1. As usual, import Numpy, Seaborn and Pyplot."
   ]
  },
  {
   "cell_type": "code",
   "execution_count": 1,
   "metadata": {
    "collapsed": false
   },
   "outputs": [
   ],
   "source": [
    "import numpy as np\n",
    "import seaborn as sns\n",
    "import matplotlib.pyplot as plt"
   ]
  },
  {
   "cell_type": "markdown",
   "metadata": {
    "collapsed": false
   },
   "source": [
    "2. Enter the data above into a Numpy array using the function `np.array`. To do this, give the input as a list of lists, with each list representing a row of the data table."
   ]
  },
  {
   "cell_type": "code",
   "execution_count": 2,
   "metadata": {
    "collapsed": false
   },
   "outputs": [
   ],
   "source": [
    "infected=[36, 64]\n",
    "notinfected=[1215, 1184]\n",
    "data=[infected, notinfected]\n",
    "obs=np.array(data)"
   ]
  },
  {
   "cell_type": "markdown",
   "metadata": {
    "collapsed": false
   },
   "source": [
    "We want to compare the observed data to what we would expect if the drug did not prevent HIV infection. In that case, the probability of infection for both groups would be the one observed in the whole sample. The total numbers of people receiving the drug vs. placebo would be the same as in the real study, but the numbers of infected and uninfected individuals would be different."
   ]
  },
  {
   "cell_type": "markdown",
   "metadata": {
    "collapsed": false
   },
   "source": [
    "3. By hand (you can use the computer as a calculator), compute the values you would expect to observe if the drug did not work and enter this array into Jupyter. Decimals are OK."
   ]
  },
  {
   "cell_type": "code",
   "execution_count": 3,
   "metadata": {
    "collapsed": false
   },
   "outputs": [
    {
     "data": {
      "text/plain": [
       "([[50.06002400960384, 49.939975990396164],\n",
       "  [1200.9399759903963, 1198.060024009604]],\n",
       " 2499)"
      ]
     },
     "execution_count": 3,
     "metadata": {
     },
     "output_type": "execute_result"
    }
   ],
   "source": [
    "#expected value is sum of column * sum of row / n\n",
    "totaldrug = 36+1215\n",
    "totalplacebo = 64+1184\n",
    "totalinfected = 36+64\n",
    "totaluninfected= 1215+1184\n",
    "n=np.sum(obs)\n",
    "\n",
    "exindrug=(totalinfected)/n*totaldrug\n",
    "exinplacebo=totalinfected/n*totalplacebo\n",
    "exunindrug=(totaluninfected)/n*totaldrug\n",
    "exuninplacebo=totaluninfected/n*totalplacebo\n",
    "expected=[[exindrug, exinplacebo],[exunindrug,exuninplacebo]]\n",
    "expected,n"
   ]
  },
  {
   "cell_type": "markdown",
   "metadata": {
    "collapsed": false
   },
   "source": [
    "We can use the $|\\chi|$ statistic, defined as $|\\chi|=\\sum\\frac{|\\text{observed-expected}|}{\\text{expected}}$, to compare the observed values to the expected ones."
   ]
  },
  {
   "cell_type": "markdown",
   "metadata": {
    "collapsed": false
   },
   "source": [
    "4. Compute $|\\chi|$ for your data. NOTE: Since we are using pure Python, not SageMath, you'll need to use ** for powers."
   ]
  },
  {
   "cell_type": "code",
   "execution_count": 4,
   "metadata": {
    "collapsed": false
   },
   "outputs": [
    {
     "data": {
      "text/plain": [
       "0.5858449460010661"
      ]
     },
     "execution_count": 4,
     "metadata": {
     },
     "output_type": "execute_result"
    }
   ],
   "source": [
    "chiabs=np.sum(np.abs(obs-expected)/expected)\n",
    "chiabs"
   ]
  },
  {
   "cell_type": "markdown",
   "metadata": {
    "collapsed": false
   },
   "source": [
    "5. Write a function to compute $|\\chi|$ for any arrays of observed and expected data."
   ]
  },
  {
   "cell_type": "code",
   "execution_count": 9,
   "metadata": {
    "collapsed": false
   },
   "outputs": [
   ],
   "source": [
    "def chiabs(obs, exp):\n",
    "    result=np.sum(np.abs(obs-expected)/expected)\n",
    "    return result"
   ]
  },
  {
   "cell_type": "code",
   "execution_count": 10,
   "metadata": {
    "collapsed": false
   },
   "outputs": [
    {
     "data": {
      "text/plain": [
       "0.5858449460010661"
      ]
     },
     "execution_count": 10,
     "metadata": {
     },
     "output_type": "execute_result"
    }
   ],
   "source": [
    "obschi=chiabs(obs,expected)\n",
    "obschi"
   ]
  },
  {
   "cell_type": "markdown",
   "metadata": {
    "collapsed": false
   },
   "source": [
    "## Resampling"
   ]
  },
  {
   "cell_type": "markdown",
   "metadata": {
    "collapsed": false
   },
   "source": [
    "By itself, the $\\chi^{2}$ statistic doesn't give us much information. Its purpose in life is to be compared to what we would get if the null hypothesis was true. To simulate the null hypothesis, we randomly assign outcomes to “drug” and “placebo” groups."
   ]
  },
  {
   "cell_type": "markdown",
   "metadata": {
    "collapsed": false
   },
   "source": [
    "6. Make a list of infected and not-infected individuals, putting in as many of each as there are in the whole sample. HINT: Remember the `[entry]*n` syntax for making a list of _n_ copies of `entry`."
   ]
  },
  {
   "cell_type": "code",
   "execution_count": 15,
   "metadata": {
    "collapsed": false
   },
   "outputs": [
   ],
   "source": [
    "p_data=[\"I\"]*totalinfected + [\"NI\"]*totaluninfected"
   ]
  },
  {
   "cell_type": "markdown",
   "metadata": {
    "collapsed": false
   },
   "source": [
    "7. Use the function `np.zeros([rows,cols])` to make an array of zeros to store your simulated data."
   ]
  },
  {
   "cell_type": "code",
   "execution_count": 16,
   "metadata": {
    "collapsed": false
   },
   "outputs": [
   ],
   "source": [
    "sim=np.zeros([2,2])"
   ]
  },
  {
   "cell_type": "markdown",
   "metadata": {
    "collapsed": false
   },
   "source": [
    "8. From your list of infected and not-infected individuals, take a sample of as many outcomes as there were people in the drug group. For the first time, we'll use sampling without replacement, which you can do by adding to `np.random.choice` the option `replace = False`, which by default is true. Then, count how many infected and not-infected individuals there are and place the counts in the appropriate cells in your storage array. HINT: To access an element in an array, use the notation `arr[row, column]`, where counting starts at 0."
   ]
  },
  {
   "cell_type": "code",
   "execution_count": 17,
   "metadata": {
    "collapsed": false
   },
   "outputs": [
    {
     "name": "stdout",
     "output_type": "stream",
     "text": [
      "[[  61.    0.]\n",
      " [1190.    0.]]\n"
     ]
    }
   ],
   "source": [
    "drug_resample=np.random.choice(p_data, totaldrug, replace = False)\n",
    "sim[0,0]=np.sum(drug_resample == \"I\")\n",
    "sim[1,0]=np.sum(drug_resample == \"NI\")\n",
    "print(sim)"
   ]
  },
  {
   "cell_type": "markdown",
   "metadata": {
    "collapsed": false
   },
   "source": [
    "9. Do the same thing for the placebo group."
   ]
  },
  {
   "cell_type": "code",
   "execution_count": 18,
   "metadata": {
    "collapsed": false
   },
   "outputs": [
    {
     "name": "stdout",
     "output_type": "stream",
     "text": [
      "[[  61.   49.]\n",
      " [1190. 1199.]]\n"
     ]
    }
   ],
   "source": [
    "placebo_resample = np.random.choice(p_data, totalplacebo, replace = False)\n",
    "sim[0,1]=np.sum(placebo_resample == \"I\")\n",
    "sim[1,1]=np.sum(placebo_resample == \"NI\")\n",
    "print(sim)"
   ]
  },
  {
   "cell_type": "markdown",
   "metadata": {
    "collapsed": false
   },
   "source": [
    "10. Compute $\\chi^{2}$ to compare your simulated array to your expected array."
   ]
  },
  {
   "cell_type": "code",
   "execution_count": 19,
   "metadata": {
    "collapsed": false
   },
   "outputs": [
    {
     "data": {
      "text/plain": [
       "0.2472533784224105"
      ]
     },
     "execution_count": 19,
     "metadata": {
     },
     "output_type": "execute_result"
    }
   ],
   "source": [
    "chiabs(sim, expected)"
   ]
  },
  {
   "cell_type": "code",
   "execution_count": 24,
   "metadata": {
    "collapsed": false
   },
   "outputs": [
    {
     "data": {
      "text/plain": [
       "0.12740326822615386"
      ]
     },
     "execution_count": 24,
     "metadata": {
     },
     "output_type": "execute_result"
    }
   ],
   "source": [
    "drug_resample=np.random.choice(p_data, totaldrug, replace = False)\n",
    "sim[0,0]=np.sum(drug_resample == \"I\")\n",
    "sim[1,0]=np.sum(drug_resample == \"NI\")\n",
    "placebo_resample = np.random.choice(p_data, totalplacebo, replace = False)\n",
    "sim[0,1]=np.sum(placebo_resample == \"I\")\n",
    "sim[1,1]=np.sum(placebo_resample == \"NI\")\n",
    "chiabs(sim, expected)"
   ]
  },
  {
   "cell_type": "markdown",
   "metadata": {
    "collapsed": false
   },
   "source": [
    "11. Set up an array in which to store your simulated $\\chi^{2}$ values and perform the simulation 10,000 times."
   ]
  },
  {
   "cell_type": "code",
   "execution_count": 25,
   "metadata": {
    "collapsed": false
   },
   "outputs": [
   ],
   "source": [
    "results=np.zeros(10000)\n",
    "sim=np.zeros([2,2])\n",
    "p_data=[\"I\"]*totalinfected + [\"NI\"]*totaluninfected\n",
    "for i in range(10000):\n",
    "    drug_resample=np.random.choice(p_data, totaldrug)\n",
    "    sim[0,0]=np.sum(drug_resample == \"I\")\n",
    "    sim[1,0]=np.sum(drug_resample == \"NI\")\n",
    "    placebo_resample = np.random.choice(p_data, totalplacebo)\n",
    "    sim[0,1]=np.sum(placebo_resample == \"I\")\n",
    "    sim[1,1]=np.sum(placebo_resample == \"NI\")\n",
    "    results[i]=chiabs(sim, expected)"
   ]
  },
  {
   "cell_type": "markdown",
   "metadata": {
    "collapsed": false
   },
   "source": [
    "12. Make a histogram of your simulated results. Mark the observed result with a vertical line."
   ]
  },
  {
   "cell_type": "code",
   "execution_count": 27,
   "metadata": {
    "collapsed": false
   },
   "outputs": [
    {
     "data": {
      "text/plain": [
       "<matplotlib.lines.Line2D at 0x7fdeb6a03940>"
      ]
     },
     "execution_count": 27,
     "metadata": {
     },
     "output_type": "execute_result"
    },
    {
     "data": {
      "image/png": "[encoded data removed]",
      "text/plain": [
       "<Figure size 360x360 with 1 Axes>"
      ]
     },
     "execution_count": 27,
     "metadata": {
      "image/png": {
       "height": 365,
       "width": 352
      },
      "needs_background": "light"
     },
     "output_type": "execute_result"
    }
   ],
   "source": [
    "p=sns.displot(data=results)\n",
    "p.set(xlabel = \"Chi-Abs Value from Simulations\")\n",
    "plt.axvline(obschi, color = \"red\")"
   ]
  },
  {
   "cell_type": "markdown",
   "metadata": {
    "collapsed": false
   },
   "source": [
    "13. Compute a p-value for your data. What do you conclude about the drug?"
   ]
  },
  {
   "cell_type": "code",
   "execution_count": 28,
   "metadata": {
    "collapsed": false
   },
   "outputs": [
    {
     "data": {
      "text/plain": [
       "0.0076"
      ]
     },
     "execution_count": 28,
     "metadata": {
     },
     "output_type": "execute_result"
    }
   ],
   "source": [
    "count=np.sum(results >= obschi)\n",
    "pval=count/10000\n",
    "pval\n",
    "\n",
    "#With a p-value of 0.0171, we can reject the null hypothesis and say that the drug has a significant effect on the odds of being infected with HIV. "
   ]
  },
  {
   "cell_type": "markdown",
   "metadata": {
    "collapsed": false
   },
   "source": [
    "## A Different Comparison - this section is not in Lab 7 for 21F\n",
    "\n",
    "As you saw previously in the course, we can replace squaring with absolute values."
   ]
  },
  {
   "cell_type": "markdown",
   "metadata": {
    "collapsed": false
   },
   "source": [
    "14. Write a function to compute $|\\chi|=\\sum\\frac{|\\text{observed-expected}|}{\\text{expected}}$ (\"chi-abs\"). HINT: Use the function `np.abs` to compute the absolute value of each entry in an array."
   ]
  },
  {
   "cell_type": "code",
   "execution_count": 18,
   "metadata": {
    "collapsed": false
   },
   "outputs": [
   ],
   "source": [
    "def chiabs(obs, exp):\n",
    "    result=np.sum((np.abs(obs-exp))/exp)\n",
    "    return result"
   ]
  },
  {
   "cell_type": "markdown",
   "metadata": {
    "collapsed": false
   },
   "source": [
    "15. Repeat the analysis using $|\\chi|$ as your test statistic. Do your conclusions change?"
   ]
  },
  {
   "cell_type": "code",
   "execution_count": 21,
   "metadata": {
    "collapsed": false
   },
   "outputs": [
    {
     "data": {
      "text/plain": [
       "<matplotlib.lines.Line2D at 0x7f6d6a6703a0>"
      ]
     },
     "execution_count": 21,
     "metadata": {
     },
     "output_type": "execute_result"
    },
    {
     "data": {
      "image/png": "[encoded data removed]",
      "text/plain": [
       "<Figure size 360x360 with 1 Axes>"
      ]
     },
     "execution_count": 21,
     "metadata": {
      "image/png": {
       "height": 352,
       "width": 352
      },
      "needs_background": "light"
     },
     "output_type": "execute_result"
    }
   ],
   "source": [
    "obschiabs=chiabs(obs, expected)\n",
    "results=np.zeros(10000)\n",
    "sim=np.zeros([2,2])\n",
    "p_data=[\"I\"]*totalinfected + [\"NI\"]*totaluninfected\n",
    "for i in range(10000):\n",
    "    drug_resample=np.random.choice(p_data, totaldrug, replace=False)\n",
    "    sim[0,0]=np.sum(drug_resample == \"I\")\n",
    "    sim[1,0]=np.sum(drug_resample == \"NI\")\n",
    "    placebo_resample = np.random.choice(p_data, totalplacebo, replace=False)\n",
    "    sim[0,1]=np.sum(placebo_resample == \"I\")\n",
    "    sim[1,1]=np.sum(placebo_resample == \"NI\")\n",
    "    results[i]=chiabs(sim, expected)\n",
    "\n",
    "p=sns.displot(data=results)\n",
    "plt.axvline(obschiabs)"
   ]
  },
  {
   "cell_type": "code",
   "execution_count": 22,
   "metadata": {
    "collapsed": false
   },
   "outputs": [
    {
     "data": {
      "text/plain": [
       "0.0001"
      ]
     },
     "execution_count": 22,
     "metadata": {
     },
     "output_type": "execute_result"
    }
   ],
   "source": [
    "count=np.sum(results >= obschiabs)\n",
    "pval=count/10000\n",
    "pval"
   ]
  },
  {
   "cell_type": "markdown",
   "metadata": {
    "collapsed": false
   },
   "source": [
    "## A More Meaningful Analysis"
   ]
  },
  {
   "cell_type": "markdown",
   "metadata": {
    "collapsed": false
   },
   "source": [
    "The $\\chi^2$ and $|\\chi|$ tests you just performed told you whether the study found a statistically significant effect. However, they said nothing about the magnitude of the effect or the uncertainty associated with it. In the exercises that follow, you will quantify the study's effect and put a confidence interval on this number.\n",
    "\n",
    "One commonly used effect size measure for binary outcomes (like \"infected\" vs. \"not infected\" or \"lived\" vs. \"died\") is the _relative risk_, also called the risk ratio. This is just the ratio of the probabilities of an outcome for the two groups. In this case, it is the probability of infection for the drug group divided by the probability of infection for the placebo group."
   ]
  },
  {
   "cell_type": "markdown",
   "metadata": {
    "collapsed": false
   },
   "source": [
    "16. Compute the relative risk of infection for this study. Write a sentence interpreting it."
   ]
  },
  {
   "cell_type": "code",
   "execution_count": 18,
   "metadata": {
    "collapsed": false
   },
   "outputs": [
    {
     "data": {
      "text/plain": [
       "array([[  36,   64],\n",
       "       [1215, 1184]])"
      ]
     },
     "execution_count": 18,
     "metadata": {
     },
     "output_type": "execute_result"
    }
   ],
   "source": [
    "obs\n",
    "#To see the observed array again"
   ]
  },
  {
   "cell_type": "code",
   "execution_count": 33,
   "metadata": {
    "collapsed": false
   },
   "outputs": [
    {
     "data": {
      "text/plain": [
       "0.5611510791366907"
      ]
     },
     "execution_count": 33,
     "metadata": {
     },
     "output_type": "execute_result"
    }
   ],
   "source": [
    "probinfecdrug=obs[0,0]/totaldrug\n",
    "probinfecplacebo=obs[0,1]/totalplacebo\n",
    "rrobs=probinfecdrug/probinfecplacebo\n",
    "rrobs\n",
    "\n",
    "#This observed relative risk means that with our data, the probability of getting HIV with the drug is 0.5 times less than the probability of getting HIV with a placebo. "
   ]
  },
  {
   "cell_type": "markdown",
   "metadata": {
    "collapsed": false
   },
   "source": [
    "Now we want to put a confidence interval on the relative risk. To do this, we will need to resample the drug and placebo groups separately, counting how many infected and uninfected individuals are in each group. We can then compute the relative risk for this resampled data and construct a confidence interval as usual."
   ]
  },
  {
   "cell_type": "markdown",
   "metadata": {
    "collapsed": false
   },
   "source": [
    "17. Compute the relative risk for the original data again, using indexing."
   ]
  },
  {
   "cell_type": "code",
   "execution_count": 20,
   "metadata": {
    "collapsed": false
   },
   "outputs": [
   ],
   "source": [
    "#Did that in 16"
   ]
  },
  {
   "cell_type": "markdown",
   "metadata": {
    "collapsed": false
   },
   "source": [
    "18. Make lists of outcomes for the drug and placebo groups."
   ]
  },
  {
   "cell_type": "code",
   "execution_count": 30,
   "metadata": {
    "collapsed": false
   },
   "outputs": [
   ],
   "source": [
    "p_drug=[\"I\"]*obs[0,0] + [\"NI\"]*obs[1,0]\n",
    "p_placebo=[\"I\"]*obs[0,1] + [\"NI\"]*obs[1,1]"
   ]
  },
  {
   "cell_type": "markdown",
   "metadata": {
    "collapsed": false
   },
   "source": [
    "19. Resampling from the lists, fill in an array with simulated data. HINT: You did something very similar in #8."
   ]
  },
  {
   "cell_type": "code",
   "execution_count": 22,
   "metadata": {
    "collapsed": false
   },
   "outputs": [
    {
     "name": "stdout",
     "output_type": "stream",
     "text": [
      "[[  32.   55.]\n",
      " [1219. 1193.]]\n"
     ]
    }
   ],
   "source": [
    "rrsim = np.zeros([2, 2])\n",
    "drug_resample = np.random.choice(p_drug, totaldrug)\n",
    "rrsim[0, 0] = np.sum(drug_resample == \"I\")\n",
    "rrsim[1, 0] = np.sum(drug_resample == \"NI\")\n",
    "\n",
    "placebo_resample = np.random.choice(p_placebo, totalplacebo)\n",
    "rrsim[0, 1] = np.sum(placebo_resample == \"I\")\n",
    "rrsim[1, 1] = np.sum(placebo_resample == \"NI\")\n",
    "\n",
    "print(rrsim)"
   ]
  },
  {
   "cell_type": "markdown",
   "metadata": {
    "collapsed": false
   },
   "source": [
    "20. Compute the relative risk for your simulated data."
   ]
  },
  {
   "cell_type": "code",
   "execution_count": 23,
   "metadata": {
    "collapsed": false
   },
   "outputs": [
    {
     "data": {
      "text/plain": [
       "0.5804229343797689"
      ]
     },
     "execution_count": 23,
     "metadata": {
     },
     "output_type": "execute_result"
    }
   ],
   "source": [
    "probinfecdrug=rrsim[0,0]/totaldrug\n",
    "probinfecplacebo=rrsim[0,1]/totalplacebo\n",
    "rr=probinfecdrug/probinfecplacebo\n",
    "rr"
   ]
  },
  {
   "cell_type": "markdown",
   "metadata": {
    "collapsed": false
   },
   "source": [
    "21. Repeat this procedure 10,000 times."
   ]
  },
  {
   "cell_type": "code",
   "execution_count": 31,
   "metadata": {
    "collapsed": false
   },
   "outputs": [
   ],
   "source": [
    "rrsim=np.zeros([2,2])\n",
    "simresults=np.zeros(10000)\n",
    "for i in range(10000):\n",
    "    drug_resample=np.random.choice(p_drug, totaldrug)\n",
    "    rrsim[0,0]=np.sum(drug_resample == \"I\")\n",
    "    rrsim[1,0]=np.sum(drug_resample == \"NI\")\n",
    "\n",
    "    placebo_resample = np.random.choice(p_placebo, totalplacebo)\n",
    "    rrsim[0,1]=np.sum(placebo_resample == \"I\")\n",
    "    rrsim[1,1]=np.sum(placebo_resample == \"NI\")\n",
    "\n",
    "    probinfecdrug=rrsim[0,0]/totaldrug\n",
    "    probinfecplacebo=rrsim[0,1]/totalplacebo\n",
    "    rr=probinfecdrug/probinfecplacebo\n",
    "    simresults[i]=rr\n",
    "\n"
   ]
  },
  {
   "cell_type": "markdown",
   "metadata": {
    "collapsed": false
   },
   "source": [
    "20. Find a 95% confidence interval for the relative risk. Remember: because relative risk is a ratio, we calculate the confidence interval as $$(exp(2*ln(M_{obs})-ln(M_{upper})),exp(2*ln(M_{obs})-ln(M_{lower})))$$\n",
    "In Python, we need to use Numpy to do the exponential and natural logarithm  functions (`np.exp()` and `np.log()`)."
   ]
  },
  {
   "cell_type": "code",
   "execution_count": 35,
   "metadata": {
    "collapsed": false
   },
   "outputs": [
    {
     "name": "stdout",
     "output_type": "stream",
     "text": [
      "95% CI =  (0.37740459806068205, 0.8707516745224512)\n"
     ]
    },
    {
     "data": {
      "text/plain": [
       "<matplotlib.lines.Line2D at 0x7fdeb68a3460>"
      ]
     },
     "execution_count": 35,
     "metadata": {
     },
     "output_type": "execute_result"
    },
    {
     "data": {
      "image/png": "[encoded data removed]",
      "text/plain": [
       "<Figure size 360x360 with 1 Axes>"
      ]
     },
     "execution_count": 35,
     "metadata": {
      "image/png": {
       "height": 365,
       "width": 352
      },
      "needs_background": "light"
     },
     "output_type": "execute_result"
    }
   ],
   "source": [
    "simresults.sort()\n",
    "Mlower=simresults[249]\n",
    "Mupper=simresults[9749]\n",
    "\n",
    "lowerbound=np.exp(2*np.log(rrobs) - np.log(Mupper))\n",
    "upperbound=np.exp(2*np.log(rrobs) - np.log(Mlower))\n",
    "\n",
    "print (\"95% CI = \",(lowerbound,upperbound))\n",
    "\n",
    "p=sns.displot(data=simresults)\n",
    "p.set(xlabel = \"Relative Risk of Simulations\")\n",
    "plt.axvline(rrobs, color=\"red\")\n",
    "plt.axvline(lowerbound, color=\"green\")\n",
    "plt.axvline(upperbound, color=\"green\")"
   ]
  },
  {
   "cell_type": "markdown",
   "metadata": {
    "collapsed": false
   },
   "source": [
    "23. Briefly interpret your computations."
   ]
  },
  {
   "cell_type": "code",
   "execution_count": 26,
   "metadata": {
    "collapsed": false
   },
   "outputs": [
   ],
   "source": [
    "#We made a 95% confidence interval of our simulated relative risks. This means that of our 10,000 confidence intervals, the true value will show up in 95% of them. If the drug did not make a difference in risk of infection, we would see a relative risk of 1.0. Since we do not see 1.0 in our 95% confidence interval, we can tentatively say that the drug indeed reduces the risk of infection. "
   ]
  }
 ],
 "metadata": {
  "kernelspec": {
   "argv": [
    "/usr/bin/python3",
    "-m",
    "ipykernel",
    "--HistoryManager.enabled=False",
    "--matplotlib=inline",
    "-c",
    "%config InlineBackend.figure_formats = set(['retina'])\nimport matplotlib; matplotlib.rcParams['figure.figsize'] = (12, 7)",
    "-f",
    "{connection_file}"
   ],
   "display_name": "Python 3 (system-wide)",
   "env": {
   },
   "language": "python",
   "metadata": {
    "cocalc": {
     "description": "Python 3 programming language",
     "priority": 100,
     "url": "https://www.python.org/"
    }
   },
   "name": "python3",
   "resource_dir": "/ext/jupyter/kernels/python3"
  },
  "language_info": {
   "codemirror_mode": {
    "name": "ipython",
    "version": 3
   },
   "file_extension": ".py",
   "mimetype": "text/x-python",
   "name": "python",
   "nbconvert_exporter": "python",
   "pygments_lexer": "ipython3",
   "version": "3.8.10"
  }
 },
 "nbformat": 4,
 "nbformat_minor": 4
}