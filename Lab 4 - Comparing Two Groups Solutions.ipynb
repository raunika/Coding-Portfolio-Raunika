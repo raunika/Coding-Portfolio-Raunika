{
 "cells": [
  {
   "cell_type": "markdown",
   "metadata": {
    "colab_type": "text",
    "collapsed": false,
    "id": "JgXGP9wjirr7"
   },
   "source": [
    "\n",
    "\n",
    "\n",
    "# **Lab 4: Comparing Two Groups**\n",
    "\n",
    "Midterm season is always a stressful time for students as most of them have to cut short their sleeping time to work long(er) hours to study. Some even pull \"all-nighters\" when they have an important exam or a pressing assignment. \n",
    "\n",
    "__Concerns that may arise include:__\n",
    "* Can you really function well the next day after a sleepless night?\n",
    "* What about several days later? Can you recover from a sleepless night by getting a full night's sleep on the following nights?\n",
    "\n",
    "## **The Study: Lingering Effects of Sleep Deprivation (Stickgold et al. 2000)**\n",
    "Researchers Stickgold, James and Hobson investigated delayed effects of sleep deprivation on learning in a study published in *Nature Neuroscience* in 2000. \n",
    "\n",
    "Twenty-two volunteers, aged 18-25 years, were first trained on a visual discrimination task that involved watching stimuli appear on a computer screen and reporting what was seen.\n",
    "\n",
    "After the training period, subjects were tested. Performance was recorded as the minimum time (in milliseconds) between the appearance of stimuli and an accurate response. Following these baseline measurements,\n",
    "* one group was randomly assigned to be deprived of sleep for 30h, followed by two full nights of unrestricted sleep (no-sleep)\n",
    "* whereas the other group was allowed to get unrestricted sleep on all three nights (sleep)\n",
    "\n",
    "Researchers recorded the improvement in performance as the decrease in the time required to complete a task when subjects were retested compared to training. If the subjects were faster at doing the task, then they improved, and they got better at the task. For example, if someone took 5 milliseconds (ms) to respond at the beginning of the study and then 2 ms to respond at the end, the improvement score is 3 ms. But if someone took 2 ms at the beginning and then 5 ms at the end, the improvement score is -3 ms.\n",
    "\n",
    "#### The goal of the study was to see whether the improvement scores tend to be higher for the unrestricted sleep treatment than for the sleep deprivation treatment."
   ]
  },
  {
   "cell_type": "code",
   "execution_count": 2,
   "metadata": {
    "colab": {
    },
    "colab_type": "code",
    "collapsed": false,
    "id": "csQnUyNwirr8"
   },
   "outputs": [
   ],
   "source": [
    "#import the libraries\n",
    "%matplotlib inline\n",
    "import numpy as np\n",
    "import matplotlib as mat\n",
    "import seaborn as sns\n",
    "import matplotlib.pyplot as plt"
   ]
  },
  {
   "cell_type": "markdown",
   "metadata": {
    "colab_type": "text",
    "collapsed": false,
    "id": "8goWOur9irsG"
   },
   "source": [
    "### Here is the data, with positive values indicating better performance at retest than at training, and negative values indicating worse performance at retest than at training.\n",
    "\n",
    "We will store the data of improvement time scores in 2 variables, `group_sleep` (for the group that had unrestricted sleep) and `group_nosleep` (for the group that had been sleep-deprived)"
   ]
  },
  {
   "cell_type": "code",
   "execution_count": 3,
   "metadata": {
    "colab": {
    },
    "colab_type": "code",
    "collapsed": false,
    "id": "3docvvk1irsH"
   },
   "outputs": [
   ],
   "source": [
    "# Run this cell to store the scores for the 2 groups\n",
    "group_sleep = np.array([-7.0, 11.6, 12.1, 12.6, 14.5, 18.6, 25.2, 30.5, 34.5, 45.6])\n",
    "group_nosleep = np.array([-14.7, -10.7, -10.7, 2.2, 2.4, 4.5, 7.2, 9.6, 10.0, 21.3, 21.8, 22.])"
   ]
  },
  {
   "cell_type": "markdown",
   "metadata": {
    "colab_type": "text",
    "collapsed": false,
    "id": "ieAxAUFgTOlU"
   },
   "source": [
    "## **Comparing Two Groups**"
   ]
  },
  {
   "cell_type": "markdown",
   "metadata": {
    "colab_type": "text",
    "collapsed": false,
    "id": "BxNxbTiiW9jw"
   },
   "source": [
    "In the previous lab, we examined each group separately. Now, we will compare them."
   ]
  },
  {
   "cell_type": "markdown",
   "metadata": {
    "collapsed": false
   },
   "source": [
    "### 1. Visualize your data by making a dot plot or beeswarm plot of each group. Label the axes. Does it seem like the data of both groups are coming from symmetrical distributions? Do the groups look different?\n"
   ]
  },
  {
   "cell_type": "markdown",
   "metadata": {
    "colab_type": "text",
    "collapsed": false,
    "id": "F4bIiuBhirsQ"
   },
   "source": [
    "### 1. What is the difference in the observed medians? Store it in a variable called `d_obs` "
   ]
  },
  {
   "cell_type": "code",
   "execution_count": 4,
   "metadata": {
    "colab": {
    },
    "colab_type": "code",
    "collapsed": false,
    "id": "MJHrRaNIirsR"
   },
   "outputs": [
    {
     "data": {
      "text/plain": [
       "10.700000000000001"
      ]
     },
     "execution_count": 4,
     "metadata": {
     },
     "output_type": "execute_result"
    }
   ],
   "source": [
    "d_obs=np.median(group_sleep)-np.median(group_nosleep)\n",
    "d_obs"
   ]
  },
  {
   "cell_type": "markdown",
   "metadata": {
    "colab_type": "text",
    "collapsed": false,
    "id": "LLNDcQ7AirsU"
   },
   "source": [
    "### 2. Did the subjects with more sleep show better improvement at the task?\n",
    "Note that the order you chose to subtract your medians doesn't really matter, since your conclusion will be the same whichever order you did."
   ]
  },
  {
   "cell_type": "code",
   "execution_count": 5,
   "metadata": {
    "colab": {
    },
    "colab_type": "code",
    "collapsed": false,
    "id": "_M0DaueGirsV"
   },
   "outputs": [
   ],
   "source": [
    "#The subjects with sleep showed better improvement because the difference in medians is positive. This means the sleep group had a better performance at retest than at training than the no sleep group. "
   ]
  },
  {
   "cell_type": "markdown",
   "metadata": {
    "colab_type": "text",
    "collapsed": false,
    "id": "aPksoh5virsa"
   },
   "source": [
    "### The question is whether this observed difference can be considered statistically significant. \n",
    "Is it possible that there’s really no harmful effect of sleep deprivation and random chance alone produced the observed differences between these two groups? Yes, this is indeed possible. The key question is how likely it would be for random chance to produce experimental data that favor the unrestricted sleep group by as much as the observed data do.\n",
    "\n",
    "Because we are comparing medians, we cannot use classical statistics and formulas to get an answer. However, we know that we can use simulations to calculate this!"
   ]
  },
  {
   "cell_type": "markdown",
   "metadata": {
    "colab_type": "text",
    "collapsed": false,
    "id": "5QEgIvw8irsb"
   },
   "source": [
    "### 3. If the question we want to answer is: \"what differences in medians would we typically observe if there was no difference between the two groups\", then this means that the two samples we have are coming from the same population. Create this population by pooling the two groups together in a variable called `population`.\n",
    "\n",
    "Use the `np.concatenate` [function](https://docs.scipy.org/doc/numpy-1.13.0/reference/generated/numpy.concatenate.html) for this.\n",
    "\n"
   ]
  },
  {
   "cell_type": "code",
   "execution_count": 6,
   "metadata": {
    "colab": {
    },
    "colab_type": "code",
    "collapsed": false,
    "id": "GURjGBrCirsc"
   },
   "outputs": [
    {
     "data": {
      "text/plain": [
       "array([ -7. ,  11.6,  12.1,  12.6,  14.5,  18.6,  25.2,  30.5,  34.5,\n",
       "        45.6, -14.7, -10.7, -10.7,   2.2,   2.4,   4.5,   7.2,   9.6,\n",
       "        10. ,  21.3,  21.8,  22. ])"
      ]
     },
     "execution_count": 6,
     "metadata": {
     },
     "output_type": "execute_result"
    }
   ],
   "source": [
    "# TODO\n",
    "population=np.concatenate([group_sleep,group_nosleep])\n",
    "population\n",
    "#Some students didn't realize what this did and therefore didn't pull from the big box model in future questions. "
   ]
  },
  {
   "cell_type": "code",
   "execution_count": 7,
   "metadata": {
    "collapsed": false
   },
   "outputs": [
    {
     "name": "stdout",
     "output_type": "stream",
     "text": [
      "[ -7.   11.6  12.1  12.6  14.5  18.6  25.2  30.5  34.5  45.6 -14.7 -10.7\n",
      " -10.7   2.2   2.4   4.5   7.2   9.6  10.   21.3  21.8  22. ]\n"
     ]
    }
   ],
   "source": [
    "pop = np.concatenate([group_sleep,group_nosleep])\n",
    "print(pop)"
   ]
  },
  {
   "cell_type": "markdown",
   "metadata": {
    "colab_type": "text",
    "collapsed": false,
    "id": "SBAs2dyzirse"
   },
   "source": [
    "### **Simulation**\n",
    "Because the null hypothesis asserts that improvement score is not associated with sleep condition, in order to make our box model, we will assume that the 22 subjects would have had exactly the same improvement scores as they did, regardless of which sleep condition group (unrestricted or deprived) the subject had been assigned.\n",
    "\n",
    "After each new random assignment, we will calculate the median improvement in each group and determine the difference between them.  After we do this a large number of times, we will have a good sense for whether the difference in group medians actually observed by the researchers is surprising under the null model of no real difference between the two groups (no treatment effect). "
   ]
  },
  {
   "cell_type": "markdown",
   "metadata": {
    "colab_type": "text",
    "collapsed": false,
    "id": "6RNZvEr6irse"
   },
   "source": [
    "### 4. Where will the resulting histogram of our null hypothesis simulation be centered?"
   ]
  },
  {
   "cell_type": "code",
   "execution_count": 8,
   "metadata": {
    "colab": {
    },
    "colab_type": "code",
    "collapsed": false,
    "id": "ZYAV2rrairsf"
   },
   "outputs": [
   ],
   "source": [
    "#The resulting histogram of our null hypothesis simulation should be centered at zero. This is because if the null hypothesis is true, there is no difference between the two groups and therefore the medians should be the same. The difference between the two medians would be zero. "
   ]
  },
  {
   "cell_type": "markdown",
   "metadata": {
    "colab_type": "text",
    "collapsed": false,
    "id": "Ovh2gKl8irsi"
   },
   "source": [
    "### 5. Note that for the simulation the groups have to have the same size as the groups we had originally. What is the sample size of each group?"
   ]
  },
  {
   "cell_type": "code",
   "execution_count": 9,
   "metadata": {
    "colab": {
    },
    "colab_type": "code",
    "collapsed": false,
    "id": "ArJVGHs0irsj"
   },
   "outputs": [
   ],
   "source": [
    "#The sleep group should have a size of 10.\n",
    "#The no sleep group should have a size of 12.\n"
   ]
  },
  {
   "cell_type": "markdown",
   "metadata": {
    "colab_type": "text",
    "collapsed": false,
    "id": "vLYPhoITirsm"
   },
   "source": [
    "### 6. We will simulate creating 2 random treatment assignment groups from our (pooled) population. To do this, we use sampling with replacement to create two groups, each of the same size as the corresponding original group. "
   ]
  },
  {
   "cell_type": "code",
   "execution_count": 10,
   "metadata": {
    "colab": {
    },
    "colab_type": "code",
    "collapsed": false,
    "id": "y4pOzPWRirsn"
   },
   "outputs": [
   ],
   "source": [
    "p_sleep=np.random.choice(population, 10)\n",
    "p_nosleep=np.random.choice(population, 12)"
   ]
  },
  {
   "cell_type": "markdown",
   "metadata": {
    "colab_type": "text",
    "collapsed": false,
    "id": "Xm06mIU2irsq"
   },
   "source": [
    "### 7. Calculate the medians of your two new groups, and report the difference in the medians you obtained."
   ]
  },
  {
   "cell_type": "code",
   "execution_count": 11,
   "metadata": {
    "colab": {
    },
    "colab_type": "code",
    "collapsed": false,
    "id": "y1UY0eXkirsr"
   },
   "outputs": [
    {
     "data": {
      "text/plain": [
       "-4.750000000000002"
      ]
     },
     "execution_count": 11,
     "metadata": {
     },
     "output_type": "execute_result"
    }
   ],
   "source": [
    "p_differenceMedian=np.median(p_sleep)-np.median(p_nosleep)\n",
    "p_differenceMedian"
   ]
  },
  {
   "cell_type": "markdown",
   "metadata": {
    "colab_type": "text",
    "collapsed": false,
    "id": "fNGh7j-3irsu"
   },
   "source": [
    "### 8. This was just ONE simulation, but we need to do it 10,000 times, storing the difference in medians we obtain each time. \n",
    "* Create an array of zeros as placeholders to store your 10,000 results (hint: use `np.zeros()`)\n",
    "* Using a for-loop, do the same simulation (that we just did) 10,000 times, calculating the median of both groups each time, and storing the difference in medians in the array you created.\n",
    "* HINT: You might noticed that so far we've run 10 simulations and printed the output before we run 10,000 simulations in order to make sure our code works and save running time. This is a vital debugging step, and you might want to do this all the time!"
   ]
  },
  {
   "cell_type": "code",
   "execution_count": 12,
   "metadata": {
    "colab": {
    },
    "colab_type": "code",
    "collapsed": false,
    "id": "W2OBFT0Zirs3"
   },
   "outputs": [
    {
     "data": {
      "text/plain": [
       "array([-0.25, -7.95, -9.3 ,  4.85, -9.2 ,  0.  , -6.35, -0.85,  0.25,\n",
       "       -1.  ])"
      ]
     },
     "execution_count": 12,
     "metadata": {
     },
     "output_type": "execute_result"
    }
   ],
   "source": [
    "results=np.zeros(10)\n",
    "for i in range(10):\n",
    "    p_sleep=np.random.choice(population, 10)\n",
    "    p_nosleep=np.random.choice(population, 12)\n",
    "    p_differenceMedian=np.median(p_sleep)-np.median(p_nosleep)\n",
    "    results[i]=p_differenceMedian\n",
    "results\n",
    " "
   ]
  },
  {
   "cell_type": "code",
   "execution_count": 13,
   "metadata": {
    "collapsed": false
   },
   "outputs": [
    {
     "data": {
      "text/plain": [
       "array([  3.4 ,  -2.  ,  -1.2 ,  -4.35,   6.25,  -1.5 ,   9.8 ,  -3.05,\n",
       "         4.35,  -4.1 ,  -2.4 ,   0.4 ,   0.  ,   2.45,  -0.25,  10.6 ,\n",
       "        12.9 ,  -6.1 , -10.3 ,  -7.3 ,   0.25,   8.8 ,  -7.95,   8.55,\n",
       "        -2.5 ,  17.85,   0.8 ,  -4.95,   8.9 ,   3.6 ,  -1.5 ,   8.  ,\n",
       "        15.  , -11.35,  10.35,   0.  ,   1.8 ,   5.1 ,  -9.5 ,   0.1 ,\n",
       "        -4.6 ,   6.  ,   8.6 ,  18.45,  -5.6 ,  -0.25,  -3.8 ,   8.1 ,\n",
       "         1.3 ,   0.  ,  -1.1 ,   1.2 ,  -0.05,  19.  ,   3.95,  -6.35,\n",
       "        -0.2 ,  -0.95,   3.05,  -2.25,   3.9 ,  -4.6 ,   8.4 ,   1.25,\n",
       "        -1.8 , -10.2 ,   8.25,   8.1 ,  10.9 ,   6.8 ,  -2.8 ,   0.2 ,\n",
       "         9.15,   1.05,   3.5 ,  11.35,  -8.2 ,  14.65,   2.7 ,  -0.55,\n",
       "         8.2 ,   3.5 ,  -3.25,   7.05,  -5.05,   3.65,   2.4 ,   8.65,\n",
       "         4.  ,  -3.65,   0.25,   8.1 ,  -9.45,   1.05,   6.05,  -5.9 ,\n",
       "        -7.3 ,  -3.95,   2.2 ,   2.55])"
      ]
     },
     "execution_count": 13,
     "metadata": {
     },
     "output_type": "execute_result"
    }
   ],
   "source": [
    "results=np.zeros(100)\n",
    "for i in range(100):\n",
    "    p_sleep=np.random.choice(population, 10)\n",
    "    yes=np.median(p_sleep)\n",
    "    p_nosleep=np.random.choice(population, 12)\n",
    "    no=np.median(p_nosleep)\n",
    "    difference=(yes-no)\n",
    "    results[i]=difference\n",
    "results"
   ]
  },
  {
   "cell_type": "code",
   "execution_count": 14,
   "metadata": {
    "collapsed": false
   },
   "outputs": [
   ],
   "source": [
    "results=np.zeros(10000)\n",
    "for i in range(10000):\n",
    "    p_sleep=np.random.choice(population, 10)\n",
    "    p_nosleep=np.random.choice(population, 12)\n",
    "    p_differenceMedian=np.median(p_sleep)-np.median(p_nosleep)\n",
    "    results[i]=p_differenceMedian"
   ]
  },
  {
   "cell_type": "markdown",
   "metadata": {
    "colab_type": "text",
    "collapsed": false,
    "id": "U5TGJgtfirs5"
   },
   "source": [
    "### 9. Plot a histogram of your results (set the number of bins to 25) and plot a line representing the actual difference the researchers got. \n",
    "Remember, we stored this variable earlier, so you don't need to recreate it."
   ]
  },
  {
   "cell_type": "code",
   "execution_count": 15,
   "metadata": {
    "colab": {
    },
    "colab_type": "code",
    "collapsed": false,
    "id": "kOYT2Asjirs5"
   },
   "outputs": [
    {
     "data": {
      "text/plain": [
       "<matplotlib.lines.Line2D at 0x7ffb37773b80>"
      ]
     },
     "execution_count": 15,
     "metadata": {
     },
     "output_type": "execute_result"
    },
    {
     "data": {
      "image/png": "[encoded data removed]",
      "text/plain": [
       "<Figure size 360x360 with 1 Axes>"
      ]
     },
     "execution_count": 15,
     "metadata": {
      "image/png": {
       "height": 365,
       "width": 352
      },
      "needs_background": "light"
     },
     "output_type": "execute_result"
    }
   ],
   "source": [
    "p=sns.displot(results, bins=25)\n",
    "p.set(xlabel=\"Difference in Medians\")\n",
    "plt.axvline(d_obs, color=\"red\")"
   ]
  },
  {
   "cell_type": "markdown",
   "metadata": {
    "colab_type": "text",
    "collapsed": false,
    "id": "DW1mC5C0irs8"
   },
   "source": [
    "### We will calculate a two-tailed p-value using our results. For that, we need to calculate how many simulations gave a result as extreme as our initial difference, in BOTH directions."
   ]
  },
  {
   "cell_type": "markdown",
   "metadata": {
    "colab_type": "text",
    "collapsed": false,
    "id": "jq7akpsHirs9"
   },
   "source": [
    "### 10. Calculate the value that is as extreme as your initial difference in the other direction, and save this value as the variable `other_limit`.\n",
    "You first need to calculate the distance between the initial difference in median and the center of your null distribution, and then calculate the value on the other side of the center of the null distribution that would be at the same distance.\n",
    "\n",
    "*HINT: If the null distribution is centered around zero, the opposite value would just have the reverse sign.*"
   ]
  },
  {
   "cell_type": "code",
   "execution_count": 16,
   "metadata": {
    "colab": {
    },
    "colab_type": "code",
    "collapsed": false,
    "id": "pwmaFxkmirs-"
   },
   "outputs": [
   ],
   "source": [
    "other_limit=-(d_obs)"
   ]
  },
  {
   "cell_type": "markdown",
   "metadata": {
    "colab_type": "text",
    "collapsed": false,
    "id": "CMjl9EXVirtA"
   },
   "source": [
    "### 11. Reproduce the histogram, this time adding another line representing `other_limit`. The two lines should be symmetric around the center of the null distribution."
   ]
  },
  {
   "cell_type": "code",
   "execution_count": 17,
   "metadata": {
    "colab": {
    },
    "colab_type": "code",
    "collapsed": false,
    "id": "DLJ1IqdOirtB"
   },
   "outputs": [
    {
     "data": {
      "text/plain": [
       "<seaborn.axisgrid.FacetGrid at 0x7ffb356bbc10>"
      ]
     },
     "execution_count": 17,
     "metadata": {
     },
     "output_type": "execute_result"
    },
    {
     "data": {
      "image/png": "[encoded data removed]",
      "text/plain": [
       "<Figure size 360x360 with 1 Axes>"
      ]
     },
     "execution_count": 17,
     "metadata": {
      "image/png": {
       "height": 365,
       "width": 352
      },
      "needs_background": "light"
     },
     "output_type": "execute_result"
    }
   ],
   "source": [
    "p=sns.displot(results, bins=25)\n",
    "plt.axvline(d_obs, color=\"red\")\n",
    "plt.axvline(other_limit, color=\"red\")\n",
    "p.set(xlabel=\"Difference in Medians\")"
   ]
  },
  {
   "cell_type": "markdown",
   "metadata": {
    "colab_type": "text",
    "collapsed": false,
    "id": "Ez8lTjFsirtD"
   },
   "source": [
    "### 12. Count how many simulations gave a result at least as extreme as the initial observed difference in medians."
   ]
  },
  {
   "cell_type": "code",
   "execution_count": 18,
   "metadata": {
    "colab": {
    },
    "colab_type": "code",
    "collapsed": false,
    "id": "O9xaXurNirtE"
   },
   "outputs": [
    {
     "data": {
      "text/plain": [
       "1213"
      ]
     },
     "execution_count": 18,
     "metadata": {
     },
     "output_type": "execute_result"
    }
   ],
   "source": [
    "resultsarr=np.array(results)\n",
    "\n",
    "extreme = np.sum(resultsarr >= d_obs) + np.sum(resultsarr <= other_limit)\n",
    "extreme"
   ]
  },
  {
   "cell_type": "code",
   "execution_count": 0,
   "metadata": {
    "collapsed": false
   },
   "outputs": [
   ],
   "source": [
   ]
  },
  {
   "cell_type": "markdown",
   "metadata": {
    "colab_type": "text",
    "collapsed": false,
    "id": "lXqvD_hMirtG"
   },
   "source": [
    "### 13. By dividing this number by the total number of simulations, you can obtain the 2-tailed p-value. Calculate this."
   ]
  },
  {
   "cell_type": "code",
   "execution_count": 19,
   "metadata": {
    "colab": {
    },
    "colab_type": "code",
    "collapsed": false,
    "id": "pLtBjSMairtH"
   },
   "outputs": [
    {
     "data": {
      "text/plain": [
       "0.1213"
      ]
     },
     "execution_count": 19,
     "metadata": {
     },
     "output_type": "execute_result"
    }
   ],
   "source": [
    "extreme/10000"
   ]
  },
  {
   "cell_type": "markdown",
   "metadata": {
    "colab_type": "text",
    "collapsed": false,
    "id": "qlYWi80xirtJ"
   },
   "source": [
    "### 14. What can you conclude about the effect of sleep deprivation on the performance of the visual task?"
   ]
  },
  {
   "cell_type": "code",
   "execution_count": 20,
   "metadata": {
    "colab": {
    },
    "colab_type": "code",
    "collapsed": false,
    "id": "MwTFfGTOirtK"
   },
   "outputs": [
   ],
   "source": [
    "#Since the p-value came out to be around 0.1215, this is much higher than the standard threshold of significance of 0.05. This suggests that there is no significant effect of sleep deprivation on the performance of the visual task. \n"
   ]
  },
  {
   "cell_type": "code",
   "execution_count": 0,
   "metadata": {
    "collapsed": false
   },
   "outputs": [
   ],
   "source": [
   ]
  },
  {
   "cell_type": "markdown",
   "metadata": {
    "colab_type": "text",
    "collapsed": false,
    "id": "g9R1vAUHirtM"
   },
   "source": [
    "### 15. What if you had done the same analysis using the mean? What 2-tailed p-value would we have obtained?\n",
    "*Hint: Copy and paste your code from relevant earlier problems and make a few small changes.* "
   ]
  },
  {
   "cell_type": "code",
   "execution_count": 21,
   "metadata": {
    "collapsed": false
   },
   "outputs": [
   ],
   "source": [
    "results2=np.zeros(10000)\n",
    "for i in range(10000):\n",
    "    p_sleep=np.random.choice(population, 10)\n",
    "    p_nosleep=np.random.choice(population, 12)\n",
    "    p_differenceMean=np.mean(p_sleep)-np.mean(p_nosleep)\n",
    "    results2[i]=p_differenceMean"
   ]
  },
  {
   "cell_type": "code",
   "execution_count": 22,
   "metadata": {
    "colab": {
    },
    "colab_type": "code",
    "collapsed": false,
    "id": "or7CQk-RirtN"
   },
   "outputs": [
    {
     "data": {
      "text/plain": [
       "<seaborn.axisgrid.FacetGrid at 0x7ffb34f8e790>"
      ]
     },
     "execution_count": 22,
     "metadata": {
     },
     "output_type": "execute_result"
    },
    {
     "data": {
      "image/png": "[encoded data removed]",
      "text/plain": [
       "<Figure size 360x360 with 1 Axes>"
      ]
     },
     "execution_count": 22,
     "metadata": {
      "image/png": {
       "height": 365,
       "width": 352
      },
      "needs_background": "light"
     },
     "output_type": "execute_result"
    }
   ],
   "source": [
    "differenceMean=np.mean(group_sleep)-np.mean(group_nosleep)\n",
    "other_limit2=-(differenceMean)\n",
    "\n",
    "p=sns.displot(data=results2, bins=25)\n",
    "plt.axvline(differenceMean, color=\"red\")\n",
    "plt.axvline(other_limit2, color=\"red\")\n",
    "p.set(xlabel=\"Difference in Means\")"
   ]
  },
  {
   "cell_type": "code",
   "execution_count": 23,
   "metadata": {
    "collapsed": false
   },
   "outputs": [
    {
     "data": {
      "text/plain": [
       "231"
      ]
     },
     "execution_count": 23,
     "metadata": {
     },
     "output_type": "execute_result"
    }
   ],
   "source": [
    "results2arr=np.array(results2)\n",
    "\n",
    "extreme2 = np.sum(results2arr >= differenceMean) + np.sum(results2arr <= other_limit2)\n",
    "extreme2"
   ]
  },
  {
   "cell_type": "code",
   "execution_count": 24,
   "metadata": {
    "collapsed": false,
    "scrolled": true
   },
   "outputs": [
    {
     "data": {
      "text/plain": [
       "0.0231"
      ]
     },
     "execution_count": 24,
     "metadata": {
     },
     "output_type": "execute_result"
    }
   ],
   "source": [
    "extreme2/10000"
   ]
  },
  {
   "cell_type": "markdown",
   "metadata": {
    "colab_type": "text",
    "collapsed": false,
    "id": "FGlBWYHSirtO"
   },
   "source": [
    "### 16. Would you have drawn the same conclusion using the mean instead of the median?"
   ]
  },
  {
   "cell_type": "code",
   "execution_count": 25,
   "metadata": {
    "colab": {
    },
    "colab_type": "code",
    "collapsed": false,
    "id": "660LQvASirtP"
   },
   "outputs": [
   ],
   "source": [
    "#I would not have drawn the same conclusion using the mean as the median. Using the mean, I would've drawn the conclusion that sleep deprivation does indeed have a significant effect on the performance. "
   ]
  },
  {
   "cell_type": "markdown",
   "metadata": {
    "colab_type": "text",
    "collapsed": false,
    "id": "daasxmZ-irtR"
   },
   "source": [
    "### 17. Why do you think you received the same or different result using mean and median for this study?"
   ]
  },
  {
   "cell_type": "code",
   "execution_count": 25,
   "metadata": {
    "colab": {
    },
    "colab_type": "code",
    "collapsed": false,
    "id": "TSif5pzsirtR"
   },
   "outputs": [
   ],
   "source": [
    "#I think I received the different result using mean and median for this study because looking at the data, there are many more large values for the sleep group and very few negative numbers, skewing the mean towards the positive (the median is not affected as much by this large range of numbers). The no sleep group has many more negative numbers and not as many large positive numbers, skewing the mean towards the left. This skewing makes the difference in means much larger and more likely to be a signficant difference. The medians for these two groups are much closer and are more resistant to skewing."
   ]
  },
  {
   "cell_type": "code",
   "execution_count": 0,
   "metadata": {
    "collapsed": false
   },
   "outputs": [
   ],
   "source": [
   ]
  },
  {
   "cell_type": "code",
   "execution_count": 26,
   "metadata": {
    "collapsed": false
   },
   "outputs": [
    {
     "data": {
      "text/plain": [
       "[Text(0.5, 0, 'Improvement in Performance Scores for No Sleep Group')]"
      ]
     },
     "execution_count": 26,
     "metadata": {
     },
     "output_type": "execute_result"
    },
    {
     "data": {
      "image/png": "[encoded data removed]",
      "text/plain": [
       "<Figure size 432x288 with 1 Axes>"
      ]
     },
     "execution_count": 26,
     "metadata": {
      "image/png": {
       "height": 261,
       "width": 377
      },
      "needs_background": "light"
     },
     "output_type": "execute_result"
    }
   ],
   "source": [
    "p=sns.boxplot(data=group_nosleep)\n",
    "p.set(xlabel=\"Improvement in Performance Scores for No Sleep Group\")"
   ]
  },
  {
   "cell_type": "code",
   "execution_count": 27,
   "metadata": {
    "collapsed": false
   },
   "outputs": [
    {
     "data": {
      "text/plain": [
       "[Text(0.5, 0, 'Improvement in Performance Scores for Sleep Group')]"
      ]
     },
     "execution_count": 27,
     "metadata": {
     },
     "output_type": "execute_result"
    },
    {
     "data": {
      "image/png": "[encoded data removed]",
      "text/plain": [
       "<Figure size 432x288 with 1 Axes>"
      ]
     },
     "execution_count": 27,
     "metadata": {
      "image/png": {
       "height": 261,
       "width": 369
      },
      "needs_background": "light"
     },
     "output_type": "execute_result"
    }
   ],
   "source": [
    "p=sns.boxplot(data=group_sleep, color=\"orchid\")\n",
    "p.set(xlabel=\"Improvement in Performance Scores for Sleep Group\")"
   ]
  },
  {
   "cell_type": "code",
   "execution_count": 28,
   "metadata": {
    "collapsed": false
   },
   "outputs": [
   ],
   "source": [
    "#Using the boxplots are a good way of looking how the two datasets can differ. Swarmplots are also alright. If a student is lost with this data, I'd ask them to visualize the data and tell me what they notice about the two datasets. "
   ]
  },
  {
   "cell_type": "markdown",
   "metadata": {
    "colab_type": "text",
    "collapsed": false,
    "id": "iOeJtzfrirtW"
   },
   "source": [
    "## **Back to Confidence Intervals**\n",
    "\n",
    "We would like to know the confidence interval of the effect size (difference in median improvement score the researchers obtained originally). For that, we need to run another simulation in which the groups are not pooled into a common population. Here, the goal is to quantify the uncertainty associated with the observed result, not to test a null hypothesis.\n",
    "\n",
    "A single simulation would be:\n",
    "* Draw a bootstrap sample from each group\n",
    "* Calculate the difference in medians from those bootstrap samples\n",
    "* Store the difference you obtained\n",
    "Repeat that 10,000 times\n",
    "Calculate the 99% confidence intervals of your results"
   ]
  },
  {
   "cell_type": "markdown",
   "metadata": {
    "colab_type": "text",
    "collapsed": false,
    "id": "qlNapNLbirtX"
   },
   "source": [
    "### 18. Run the simulations and calculate the 99% confidence interval for the difference the researchers obtained originally."
   ]
  },
  {
   "cell_type": "code",
   "execution_count": 26,
   "metadata": {
    "colab": {
    },
    "colab_type": "code",
    "collapsed": false,
    "id": "ybFrDcB7irtY"
   },
   "outputs": [
    {
     "data": {
      "text/plain": [
       "array([ 9.  , -1.15, 10.25,  8.4 ,  7.9 , 24.1 ,  6.35,  7.8 , 11.4 ,\n",
       "        6.75])"
      ]
     },
     "execution_count": 26,
     "metadata": {
     },
     "output_type": "execute_result"
    }
   ],
   "source": [
    "results=np.zeros(10)\n",
    "for i in range(10):\n",
    "    p_sleep=np.random.choice(group_sleep, len(group_sleep))\n",
    "    p_nosleep = np.random.choice(group_nosleep, len(group_nosleep))\n",
    "    results[i]=np.median(p_sleep)-np.median(p_nosleep)\n",
    "results"
   ]
  },
  {
   "cell_type": "code",
   "execution_count": 27,
   "metadata": {
    "collapsed": false
   },
   "outputs": [
   ],
   "source": [
    "results=np.zeros(10000)\n",
    "for i in range(10000):\n",
    "    p_sleep=np.random.choice(group_sleep, len(group_sleep))\n",
    "    p_nosleep = np.random.choice(group_nosleep, len(group_nosleep))\n",
    "    results[i]=np.median(p_sleep)-np.median(p_nosleep)"
   ]
  },
  {
   "cell_type": "code",
   "execution_count": 28,
   "metadata": {
    "collapsed": false
   },
   "outputs": [
    {
     "name": "stdout",
     "output_type": "stream",
     "text": [
      "-12.7 27.35\n"
     ]
    }
   ],
   "source": [
    "results.sort()\n",
    "Mlower=results[49]\n",
    "Mupper=results[9949]\n",
    "\n",
    "lowerbound=2*d_obs - Mupper\n",
    "upperbound=2*d_obs - Mlower\n",
    "print(lowerbound,upperbound)"
   ]
  },
  {
   "cell_type": "code",
   "execution_count": 32,
   "metadata": {
    "collapsed": false
   },
   "outputs": [
    {
     "data": {
      "text/plain": [
       "<matplotlib.lines.Line2D at 0x7ff8ef91cd60>"
      ]
     },
     "execution_count": 32,
     "metadata": {
     },
     "output_type": "execute_result"
    },
    {
     "data": {
      "image/png": "[encoded data removed]",
      "text/plain": [
       "<Figure size 360x360 with 1 Axes>"
      ]
     },
     "execution_count": 32,
     "metadata": {
      "image/png": {
       "height": 352,
       "width": 352
      },
      "needs_background": "light"
     },
     "output_type": "execute_result"
    }
   ],
   "source": [
    "p=sns.displot(results, bins=25)\n",
    "plt.axvline(lowerbound, color=\"red\")\n",
    "plt.axvline(upperbound, color=\"red\")"
   ]
  },
  {
   "cell_type": "markdown",
   "metadata": {
    "colab_type": "text",
    "collapsed": false,
    "id": "yRoI5Gedirta"
   },
   "source": [
    "### 19. What can you conclude?"
   ]
  },
  {
   "cell_type": "code",
   "execution_count": 33,
   "metadata": {
    "colab": {
    },
    "colab_type": "code",
    "collapsed": false,
    "id": "_W9D1PSVirtb"
   },
   "outputs": [
   ],
   "source": [
    "#Since the 99% confidence interval includes 0, we cannot say the populations are significantly different, and therefore sleep deprivation doesn't seem to have a signficant effect on performance scores. A value of 0 inside the CI supports failing to reject the null hypothesis, as we have some evidence that the null might be true."
   ]
  }
 ],
 "metadata": {
  "colab": {
   "collapsed_sections": [
   ],
   "name": "DRAFT Lab 3 - Quantifying Uncertainty and Comparing Two Groups.ipynb",
   "provenance": [
   ],
   "version": "0.3.2"
  },
  "kernelspec": {
   "argv": [
    "/usr/bin/python3",
    "-m",
    "ipykernel",
    "--HistoryManager.enabled=False",
    "--matplotlib=inline",
    "-c",
    "%config InlineBackend.figure_formats = set(['retina'])\nimport matplotlib; matplotlib.rcParams['figure.figsize'] = (12, 7)",
    "-f",
    "{connection_file}"
   ],
   "display_name": "Python 3 (system-wide)",
   "env": {
   },
   "language": "python",
   "metadata": {
    "cocalc": {
     "description": "Python 3 programming language",
     "priority": 100,
     "url": "https://www.python.org/"
    }
   },
   "name": "python3",
   "resource_dir": "/ext/jupyter/kernels/python3"
  },
  "language_info": {
   "codemirror_mode": {
    "name": "ipython",
    "version": 3
   },
   "file_extension": ".py",
   "mimetype": "text/x-python",
   "name": "python",
   "nbconvert_exporter": "python",
   "pygments_lexer": "ipython3",
   "version": "3.8.10"
  }
 },
 "nbformat": 4,
 "nbformat_minor": 4
}