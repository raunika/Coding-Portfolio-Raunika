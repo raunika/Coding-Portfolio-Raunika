{
 "cells": [
  {
   "cell_type": "markdown",
   "metadata": {
    "colab_type": "text",
    "collapsed": false,
    "id": "c1oMrN12smrB"
   },
   "source": [
    "# **Lab 2: Random Simulation Solutions**"
   ]
  },
  {
   "cell_type": "markdown",
   "metadata": {
    "colab_type": "text",
    "collapsed": false,
    "id": "cvd07ig1sjDL"
   },
   "source": [
    "In this lab, you will learn how to compare an observed proportion to one expected by chance.\n",
    "\n",
    "Note: Just as re-starting the worksheet was useful in Sage in LS 30A, re-starting the kernel is useful for debugging in Python notebooks. You can do this by going to Kernel menu > Re-start Kernel."
   ]
  },
  {
   "cell_type": "code",
   "execution_count": 1,
   "metadata": {
    "colab": {
    },
    "colab_type": "code",
    "collapsed": false,
    "id": "p_lG82nSn40l"
   },
   "outputs": [
   ],
   "source": [
    "# 1. To make the necessary tools available, run the following code.\n",
    "%matplotlib inline \n",
    "import numpy as np \n",
    "import seaborn as sns\n",
    "import matplotlib.pyplot as plt"
   ]
  },
  {
   "cell_type": "markdown",
   "metadata": {
    "colab_type": "text",
    "collapsed": false,
    "id": "wxV4B4NwuH_1"
   },
   "source": [
    "In the 1970s, the town of Woburn, MA seemed to have too many childhood leukemia cases. 12 children had been diagnosed between 1969 and 1979, and some parents started to suspect that something in the environment might be to blame. (This story was described in the book _A Civil Action_ by Jonathan Harr, which was later made into a movie. There is also an [epidemiology tutorial from Boston University](http://sphweb.bumc.bu.edu/otlt/MPH-Modules/PH/Woburn/) based on this case.)\n",
    "\n",
    "The first step in investigating a potential disease cluster such as this is to see if there really are more cases than what would be expected by chance. In this lab, we will do this for childhood leukemia in Woburn by comparing the proportion of Woburn children who got sick to the proportion in the country as a whole, which is about 4/10000."
   ]
  },
  {
   "cell_type": "markdown",
   "metadata": {
    "colab_type": "text",
    "collapsed": false,
    "id": "jvZ0z0ivuZJ4"
   },
   "source": [
    "**Exercise 2**. If there was nothing unusual going on in Woburn, what could we say about these proportions? This is our null hypothesis. (Double-click this cell or make a new text cell to type in your answer.)"
   ]
  },
  {
   "cell_type": "markdown",
   "metadata": {
    "collapsed": false
   },
   "source": [
    "TO DO \n",
    "\n",
    "If there is nothing unusual happening in Woburn, the proportion of children with leukemia should be the same as the proportion of children with leukemia in the country as a whole."
   ]
  },
  {
   "cell_type": "markdown",
   "metadata": {
    "colab_type": "text",
    "collapsed": false,
    "id": "tBrY3mAz14Xb"
   },
   "source": [
    "**BOX MODEL**\n",
    "\n",
    "First, we will need to set up a list in which the number of people with and without leukemia is the same as in the general population. To avoid typing a very long list, we will use a cool Python trick for making a list of repeating elements. If there are 20 people, of which 18 are healthy and 2 have leukemia, we would type `leu = [“H”]*18+[“L”]*2. `"
   ]
  },
  {
   "cell_type": "code",
   "execution_count": 3,
   "metadata": {
    "colab": {
    },
    "colab_type": "code",
    "collapsed": false,
    "id": "NZB5XUvJOfuc"
   },
   "outputs": [
   ],
   "source": [
    "# 3. Make a list of 10,000 people representing the general population, for which the childhood leukemia rate is 4/10000. You can use \"L\" for \"leukemia\" and \"H\" for \"healthy\".\n",
    "\n",
    "leu = [\"H\"]*9996+[\"L\"]*4 \n",
    "#leu"
   ]
  },
  {
   "cell_type": "markdown",
   "metadata": {
    "colab_type": "text",
    "collapsed": false,
    "id": "7v6ptrA2a8Es"
   },
   "source": [
    "We will now start using a powerful tool for working with data, the Numpy array. Numpy arrays are objects that look like lists or tables but have special features that are helpful for scientific computing. To convert a list to a 1-D Numpy array, use the function `np.array` and input the list."
   ]
  },
  {
   "cell_type": "code",
   "execution_count": 4,
   "metadata": {
    "colab": {
    },
    "colab_type": "code",
    "collapsed": false,
    "id": "IBvbBtJQZPA0"
   },
   "outputs": [
   ],
   "source": [
    "# 4. Turn your list into a Numpy array. Make sure to assign it to a variable for future use.\n",
    "\n",
    "leuarr = np.array(leu)\n"
   ]
  },
  {
   "cell_type": "markdown",
   "metadata": {
    "colab_type": "text",
    "collapsed": false,
    "id": "TLOw87DNdL9y"
   },
   "source": [
    "In 1970, there were 11,748 children ages 0-14 in Woburn. We will now investigate the hypothesis that the 12 who got sick are a random sample of the general population. To do this, we will take random samples of 11,748 people from the general population and find how many in each sample have leukemia. We will then compare the observed results to the simulated ones."
   ]
  },
  {
   "cell_type": "markdown",
   "metadata": {
    "colab_type": "text",
    "collapsed": false,
    "id": "JTwO7q2TgSnz"
   },
   "source": [
    "We need to pick as many individuals from the box as there are children in Woburn. If there are 20 children, we would use \n",
    "\n",
    "`p_leulist = np.random.choice(leuarr, 20)`\n",
    "\n",
    "The p_ is an abbreviation for “pseudo”. It distinguishes our simulation results from the real data."
   ]
  },
  {
   "cell_type": "code",
   "execution_count": 5,
   "metadata": {
    "colab": {
    },
    "colab_type": "code",
    "collapsed": false,
    "id": "ZNBksfk6xK63"
   },
   "outputs": [
   ],
   "source": [
    "# 5. Pick a random sample of 11,748 people from the general population.\n",
    "\n",
    "p_leulist = np.random.choice(leuarr, 11748)"
   ]
  },
  {
   "cell_type": "markdown",
   "metadata": {
    "colab_type": "text",
    "collapsed": false,
    "id": "1Mh6IE0NOfYd"
   },
   "source": [
    " To count the children with leukemia, we can look at each individual and record whether or not they have leukemia (True for yes, False for no). This done by writing a comparison with the whole array, as in `arr1<20` or `arr2==\"dog\"`.  (This syntax only works for Numpy arrays, not lists, which is why we are using arrays.) The output is an array of Boolean (True or False) values.  We can then apply the `sum` function to this array to get a total number of unvaccinated individuals.\n"
   ]
  },
  {
   "cell_type": "code",
   "execution_count": 6,
   "metadata": {
    "colab": {
    },
    "colab_type": "code",
    "collapsed": false,
    "id": "sSYrSDJNzzbF"
   },
   "outputs": [
    {
     "data": {
      "text/plain": [
       "5"
      ]
     },
     "execution_count": 6,
     "metadata": {
     },
     "output_type": "execute_result"
    }
   ],
   "source": [
    "# 6. Do this for your random sample.\n",
    "\n",
    "leunum = np.sum(p_leulist == \"L\")\n",
    "leunum"
   ]
  },
  {
   "cell_type": "markdown",
   "metadata": {
    "colab_type": "text",
    "collapsed": false,
    "id": "S4jyiOk90c6S"
   },
   "source": [
    "We now have a single result from a random simulation. But in order to compare our observed result to what might occur if the null hypothesis is true, we need many simulated results.\n",
    "\n",
    "**Exercise 7**. Briefly explain why."
   ]
  },
  {
   "cell_type": "code",
   "execution_count": 0,
   "metadata": {
    "collapsed": false
   },
   "outputs": [
   ],
   "source": [
   ]
  },
  {
   "cell_type": "markdown",
   "metadata": {
    "colab_type": "text",
    "collapsed": false,
    "id": "ew1ihgTe0xah"
   },
   "source": [
    "We therefore need to repeat our simulation many times. (We'll usually do 10,000.) To do this, we'll use a *for loop*. For loops have many powerful and elegant uses in Python, but for now, we only need the most basic one — repeating an action. To run some code *n* times, you'll need to write\n",
    "\n",
    "```\n",
    "for i in range(n):\n",
    "    #Code to be repeated\n",
    "```\n",
    "\n",
    "For example, the following code prints “Hello, world!” 5 times.\n",
    "\n",
    "\n",
    "```\n",
    "for i in range(5):\n",
    "    print(“Hello, world!”)\n",
    "```\n",
    "\n",
    "Running your code just a few times is a good way to debug it before you run it thousands of times."
   ]
  },
  {
   "cell_type": "code",
   "execution_count": 6,
   "metadata": {
    "colab": {
    },
    "colab_type": "code",
    "collapsed": false,
    "id": "r1cmUjcy2Vpd"
   },
   "outputs": [
    {
     "name": "stdout",
     "output_type": "stream",
     "text": [
      "5\n",
      "9\n",
      "8\n",
      "4\n",
      "8\n",
      "6\n",
      "5\n",
      "3\n",
      "6\n",
      "6\n"
     ]
    }
   ],
   "source": [
    "# 8. Put your code for simulating the Woburn leukemia cases in a for loop that will run it 10 times. Print the result each time.\n",
    "\n",
    "\n",
    "for i in range(10):\n",
    "    p_leulist = np.random.choice(leuarr, 11748)\n",
    "    p_leunum = np.sum(p_leulist == \"L\") \n",
    "    print(p_leunum)\n",
    "\n"
   ]
  },
  {
   "cell_type": "markdown",
   "metadata": {
    "colab_type": "text",
    "collapsed": false,
    "id": "Q0eBtVkB0_DQ"
   },
   "source": [
    "In order to do anything useful with our simulation output, we will need to store it somewhere. This can be done by making an empty list — one with no elements — and appending each result to it. (Think of making an empty list as tearing out a piece of paper and titling it “Groceries” when making a shopping list.) To make empty list, enter `listname = []`, replacing `listname` with the actual name of your list. Then, use `listname.append()` to add computed values to your list.\n",
    "\n",
    "\n",
    "**Exercise 9**. Why does the empty list need to be created before the for loop rather than inside it?\n",
    "\n"
   ]
  },
  {
   "cell_type": "code",
   "execution_count": 7,
   "metadata": {
    "colab": {
    },
    "colab_type": "code",
    "collapsed": false,
    "id": "2F7yxCz33PFP"
   },
   "outputs": [
   ],
   "source": [
    "# 10. Make an empty list to hold your simulation output. Then, use a for loop to run your simulation 10000 times. \n",
    "# HINT: Make sure you are storing the number of individuals with leukemia, not the whole simulation output.\n",
    "mylist = []\n",
    "for i in range(10000):\n",
    "    p_leulist = np.random.choice(leuarr, 11748)\n",
    "    p_leunum = np.sum(p_leulist == \"L\")\n",
    "    mylist.append(p_leunum)\n"
   ]
  },
  {
   "cell_type": "markdown",
   "metadata": {
    "colab_type": "text",
    "collapsed": false,
    "id": "a7SFYHIJ2xk6"
   },
   "source": [
    "Now, we want to make a histogram of the simulation results. As before, we will use the seaborn function `displot`. If our simulation output is in `simlist`, the plotting code is: \n",
    "\n",
    "```\n",
    "p=sns.displot(data=simlist)\n",
    "p.set(xlabel=\"Some Characteristic\", ylabel=\"Count\")\n",
    "```\n",
    "\n"
   ]
  },
  {
   "cell_type": "code",
   "execution_count": 19,
   "metadata": {
    "colab": {
    },
    "colab_type": "code",
    "collapsed": false,
    "id": "EMCYgcdLz-Ip"
   },
   "outputs": [
    {
     "data": {
      "text/plain": [
       "<seaborn.axisgrid.FacetGrid at 0x7f5af01f0bb0>"
      ]
     },
     "execution_count": 19,
     "metadata": {
     },
     "output_type": "execute_result"
    },
    {
     "data": {
      "image/png": "[encoded data removed]",
      "text/plain": [
       "<Figure size 360x360 with 1 Axes>"
      ]
     },
     "execution_count": 19,
     "metadata": {
      "image/png": {
       "height": 365,
       "width": 352
      },
      "needs_background": "light"
     },
     "output_type": "execute_result"
    }
   ],
   "source": [
    "# 11. Make such a plot for your simulation.\n",
    "p=sns.displot(data=mylist)\n",
    "p.set(xlabel=\"Number of People with Leukemia out of 11748 people\", ylabel=\"Count\")"
   ]
  },
  {
   "cell_type": "markdown",
   "metadata": {
    "colab_type": "text",
    "collapsed": false,
    "id": "3v23h2WH3zzd"
   },
   "source": [
    "To visually compare the real data to the simulated results, we can put a vertical line at the observed count. In order to do this, we will use the library Pyplot, which we imported earlier with the code `import matplotlib.pyplot as plt`. For example, to put a red vertical line at 10, the code is `plt.axvline(10, color=\"red\")`. This code should go in the same cell as the code for the histogram.\n"
   ]
  },
  {
   "cell_type": "code",
   "execution_count": 9,
   "metadata": {
    "colab": {
    },
    "colab_type": "code",
    "collapsed": false,
    "id": "y37T8EPl3wjN"
   },
   "outputs": [
    {
     "data": {
      "text/plain": [
       "<matplotlib.lines.Line2D at 0x7f5af24a7c70>"
      ]
     },
     "execution_count": 9,
     "metadata": {
     },
     "output_type": "execute_result"
    },
    {
     "data": {
      "image/png": "[encoded data removed]",
      "text/plain": [
       "<Figure size 360x360 with 1 Axes>"
      ]
     },
     "execution_count": 9,
     "metadata": {
      "image/png": {
       "height": 365,
       "width": 352
      },
      "needs_background": "light"
     },
     "output_type": "execute_result"
    }
   ],
   "source": [
    "# 12. Add such a line to your histogram.\n",
    "p=sns.displot(data=mylist)\n",
    "p.set(xlabel=\"Number of People with Leukemia out of 11748 people\", ylabel=\"Count\")\n",
    "plt.axvline(12, color=\"red\")"
   ]
  },
  {
   "cell_type": "markdown",
   "metadata": {
    "colab_type": "text",
    "collapsed": false,
    "id": "yn-YOltvo1q3"
   },
   "source": [
    "We can also compare the observed result to the simulated ones numerically. The fraction of simulated results that are at least as extreme as the observed one is called the *p-value* of the result."
   ]
  },
  {
   "cell_type": "code",
   "execution_count": 10,
   "metadata": {
    "colab": {
    },
    "colab_type": "code",
    "collapsed": false,
    "id": "pS3m6eAXpRfr",
    "scrolled": true
   },
   "outputs": [
    {
     "data": {
      "text/plain": [
       "32"
      ]
     },
     "execution_count": 10,
     "metadata": {
     },
     "output_type": "execute_result"
    }
   ],
   "source": [
    "# 13. Using Python, count how many results are as large as or larger than the observed one. (You can use the >= symbol to do this.)\n",
    "\n",
    "simarr = np.array(mylist)\n",
    "np.sum(simarr >= 12)\n"
   ]
  },
  {
   "cell_type": "code",
   "execution_count": 11,
   "metadata": {
    "colab": {
    },
    "colab_type": "code",
    "collapsed": false,
    "id": "5GOTwvZcqw67"
   },
   "outputs": [
    {
     "data": {
      "text/plain": [
       "0.0032"
      ]
     },
     "execution_count": 11,
     "metadata": {
     },
     "output_type": "execute_result"
    }
   ],
   "source": [
    "# 14. Find the p-value associated with your result. HINT: How do you go from a count to a fraction?\n",
    "\n",
    "pval = np.sum(simarr >= 12)/10000\n",
    "pval\n",
    "\n",
    "# Based on the 10000 simulations of our null hypothesis, if it were the case that vaccinated and unvaccinated individuals get sick with the same probability, there is an estimated 0.0034% chance that we would have seen our result of 12 children getting leukemia."
   ]
  },
  {
   "cell_type": "markdown",
   "metadata": {
    "colab_type": "text",
    "collapsed": false,
    "id": "TNFEySyuoM8h"
   },
   "source": [
    "**Exercise 15**. Write a sentence explaining what your p-value means.\n",
    "\n"
   ]
  },
  {
   "cell_type": "code",
   "execution_count": 17,
   "metadata": {
    "colab": {
    },
    "colab_type": "code",
    "collapsed": false,
    "id": "oNhcFcr2qvJq"
   },
   "outputs": [
    {
     "data": {
      "text/plain": [
       "0.0029"
      ]
     },
     "execution_count": 17,
     "metadata": {
     },
     "output_type": "execute_result"
    },
    {
     "data": {
      "image/png": "[encoded data removed]",
      "text/plain": [
       "<Figure size 360x360 with 1 Axes>"
      ]
     },
     "execution_count": 17,
     "metadata": {
      "image/png": {
       "height": 365,
       "width": 352
      },
      "needs_background": "light"
     },
     "output_type": "execute_result"
    }
   ],
   "source": [
    "# 16. Put all the important steps of what you have done up to now into a single script. \n",
    "# Add enough comments so you'll know in the future what each part of the code does.\n",
    "\n",
    "\n",
    "# import packages to use plotting and arrays\n",
    "%matplotlib inline\n",
    "import numpy as np\n",
    "import seaborn as sns\n",
    "import matplotlib.pyplot as plt\n",
    "\n",
    "leu = [\"H\"]*9996+[\"L\"]*4 # set up underlying distribution of vaccinated people in general population\n",
    "leuarr = np.array(leu) # convert to numpy array\n",
    "\n",
    "# run 10000 simulations\n",
    "mylist = []\n",
    "for i in range(10000):\n",
    "    p_leulist = np.random.choice(leuarr, 11748)\n",
    "    p_leunum = np.sum(p_leulist == \"L\")\n",
    "    mylist.append(p_leunum)\n",
    "\n",
    "# plot histogram of simulations and the observed result\n",
    "p=sns.displot(data=mylist, kde=False)\n",
    "p.set(xlabel=\"Number of People with Leukemia out of 11748 people\", ylabel=\"Count\")\n",
    "plt.axvline(12, color=\"red\")\n",
    "\n",
    "# compute p value by dividing how many simulations resulted in at least 49 unvaccinated people getting sick by total number of simulations\n",
    "simarr = np.array(mylist)\n",
    "pval = np.sum(simarr >= 12)/10000\n",
    "pval\n",
    "\n",
    "\n",
    "\n",
    "\n"
   ]
  },
  {
   "cell_type": "code",
   "execution_count": 0,
   "metadata": {
    "collapsed": false
   },
   "outputs": [
   ],
   "source": [
   ]
  }
 ],
 "metadata": {
  "colab": {
   "name": "DRAFT Lab 2 -- Random Simulation.ipynb",
   "provenance": [
   ],
   "version": "0.3.2"
  },
  "kernelspec": {
   "argv": [
    "/usr/bin/python3",
    "-m",
    "ipykernel",
    "--HistoryManager.enabled=False",
    "--matplotlib=inline",
    "-c",
    "%config InlineBackend.figure_formats = set(['retina'])\nimport matplotlib; matplotlib.rcParams['figure.figsize'] = (12, 7)",
    "-f",
    "{connection_file}"
   ],
   "display_name": "Python 3 (system-wide)",
   "env": {
   },
   "language": "python",
   "metadata": {
    "cocalc": {
     "description": "Python 3 programming language",
     "priority": 100,
     "url": "https://www.python.org/"
    }
   },
   "name": "python3",
   "resource_dir": "/ext/jupyter/kernels/python3"
  },
  "language_info": {
   "codemirror_mode": {
    "name": "ipython",
    "version": 3
   },
   "file_extension": ".py",
   "mimetype": "text/x-python",
   "name": "python",
   "nbconvert_exporter": "python",
   "pygments_lexer": "ipython3",
   "version": "3.8.10"
  }
 },
 "nbformat": 4,
 "nbformat_minor": 4
}