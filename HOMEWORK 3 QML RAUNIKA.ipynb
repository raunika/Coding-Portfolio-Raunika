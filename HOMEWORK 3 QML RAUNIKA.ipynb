{
 "cells": [
  {
   "cell_type": "code",
   "execution_count": null,
   "id": "9bcd22c6",
   "metadata": {},
   "outputs": [],
   "source": [
    "\n"
   ]
  },
  {
   "cell_type": "code",
   "execution_count": null,
   "id": "b744c5c7",
   "metadata": {},
   "outputs": [],
   "source": []
  },
  {
   "cell_type": "code",
   "execution_count": 1,
   "id": "4238bb4e",
   "metadata": {},
   "outputs": [
    {
     "name": "stdout",
     "output_type": "stream",
     "text": [
      "Collecting qiskit\n",
      "  Downloading qiskit-0.42.0.tar.gz (14 kB)\n",
      "  Preparing metadata (setup.py): started\n",
      "  Preparing metadata (setup.py): finished with status 'done'\n",
      "Collecting qiskit-terra==0.23.2\n",
      "  Downloading qiskit_terra-0.23.2-cp39-cp39-win_amd64.whl (4.6 MB)\n",
      "     ---------------------------------------- 4.6/4.6 MB 8.0 MB/s eta 0:00:00\n",
      "Collecting qiskit-aer==0.12.0\n",
      "  Downloading qiskit_aer-0.12.0-cp39-cp39-win_amd64.whl (9.6 MB)\n",
      "     ---------------------------------------- 9.6/9.6 MB 8.5 MB/s eta 0:00:00\n",
      "Collecting qiskit-ibmq-provider==0.20.2\n",
      "  Downloading qiskit_ibmq_provider-0.20.2-py3-none-any.whl (241 kB)\n",
      "     -------------------------------------- 241.5/241.5 kB 7.5 MB/s eta 0:00:00\n",
      "Requirement already satisfied: numpy>=1.16.3 in c:\\users\\rauni\\anaconda3\\lib\\site-packages (from qiskit-aer==0.12.0->qiskit) (1.21.5)\n",
      "Requirement already satisfied: scipy>=1.0 in c:\\users\\rauni\\anaconda3\\lib\\site-packages (from qiskit-aer==0.12.0->qiskit) (1.9.1)\n",
      "Requirement already satisfied: requests>=2.19 in c:\\users\\rauni\\anaconda3\\lib\\site-packages (from qiskit-ibmq-provider==0.20.2->qiskit) (2.28.1)\n",
      "Requirement already satisfied: urllib3>=1.21.1 in c:\\users\\rauni\\anaconda3\\lib\\site-packages (from qiskit-ibmq-provider==0.20.2->qiskit) (1.26.11)\n",
      "Collecting requests-ntlm<=1.1.0\n",
      "  Downloading requests_ntlm-1.1.0-py2.py3-none-any.whl (5.7 kB)\n",
      "Collecting websocket-client>=1.5.1\n",
      "  Downloading websocket_client-1.5.1-py3-none-any.whl (55 kB)\n",
      "     ---------------------------------------- 55.9/55.9 kB ? eta 0:00:00\n",
      "Requirement already satisfied: python-dateutil>=2.8.0 in c:\\users\\rauni\\anaconda3\\lib\\site-packages (from qiskit-ibmq-provider==0.20.2->qiskit) (2.8.2)\n",
      "Collecting websockets>=10.0\n",
      "  Downloading websockets-10.4-cp39-cp39-win_amd64.whl (101 kB)\n",
      "     ---------------------------------------- 101.4/101.4 kB ? eta 0:00:00\n",
      "Requirement already satisfied: sympy>=1.3 in c:\\users\\rauni\\anaconda3\\lib\\site-packages (from qiskit-terra==0.23.2->qiskit) (1.10.1)\n",
      "Requirement already satisfied: psutil>=5 in c:\\users\\rauni\\anaconda3\\lib\\site-packages (from qiskit-terra==0.23.2->qiskit) (5.9.0)\n",
      "Collecting ply>=3.10\n",
      "  Downloading ply-3.11-py2.py3-none-any.whl (49 kB)\n",
      "     ---------------------------------------- 49.6/49.6 kB ? eta 0:00:00\n",
      "Requirement already satisfied: dill>=0.3 in c:\\users\\rauni\\anaconda3\\lib\\site-packages (from qiskit-terra==0.23.2->qiskit) (0.3.4)\n",
      "Collecting stevedore>=3.0.0\n",
      "  Downloading stevedore-5.0.0-py3-none-any.whl (49 kB)\n",
      "     ---------------------------------------- 49.6/49.6 kB ? eta 0:00:00\n",
      "Requirement already satisfied: rustworkx>=0.12.0 in c:\\users\\rauni\\anaconda3\\lib\\site-packages (from qiskit-terra==0.23.2->qiskit) (0.12.1)\n",
      "Requirement already satisfied: six>=1.5 in c:\\users\\rauni\\anaconda3\\lib\\site-packages (from python-dateutil>=2.8.0->qiskit-ibmq-provider==0.20.2->qiskit) (1.16.0)\n",
      "Requirement already satisfied: certifi>=2017.4.17 in c:\\users\\rauni\\anaconda3\\lib\\site-packages (from requests>=2.19->qiskit-ibmq-provider==0.20.2->qiskit) (2022.9.14)\n",
      "Requirement already satisfied: charset-normalizer<3,>=2 in c:\\users\\rauni\\anaconda3\\lib\\site-packages (from requests>=2.19->qiskit-ibmq-provider==0.20.2->qiskit) (2.0.4)\n",
      "Requirement already satisfied: idna<4,>=2.5 in c:\\users\\rauni\\anaconda3\\lib\\site-packages (from requests>=2.19->qiskit-ibmq-provider==0.20.2->qiskit) (3.3)\n",
      "Collecting ntlm-auth>=1.0.2\n",
      "  Downloading ntlm_auth-1.5.0-py2.py3-none-any.whl (29 kB)\n",
      "Requirement already satisfied: cryptography>=1.3 in c:\\users\\rauni\\anaconda3\\lib\\site-packages (from requests-ntlm<=1.1.0->qiskit-ibmq-provider==0.20.2->qiskit) (37.0.1)\n",
      "Collecting pbr!=2.1.0,>=2.0.0\n",
      "  Downloading pbr-5.11.1-py2.py3-none-any.whl (112 kB)\n",
      "     -------------------------------------- 112.7/112.7 kB 6.4 MB/s eta 0:00:00\n",
      "Requirement already satisfied: mpmath>=0.19 in c:\\users\\rauni\\anaconda3\\lib\\site-packages (from sympy>=1.3->qiskit-terra==0.23.2->qiskit) (1.2.1)\n",
      "Requirement already satisfied: cffi>=1.12 in c:\\users\\rauni\\anaconda3\\lib\\site-packages (from cryptography>=1.3->requests-ntlm<=1.1.0->qiskit-ibmq-provider==0.20.2->qiskit) (1.15.1)\n",
      "Requirement already satisfied: pycparser in c:\\users\\rauni\\anaconda3\\lib\\site-packages (from cffi>=1.12->cryptography>=1.3->requests-ntlm<=1.1.0->qiskit-ibmq-provider==0.20.2->qiskit) (2.21)\n",
      "Building wheels for collected packages: qiskit\n",
      "  Building wheel for qiskit (setup.py): started\n",
      "  Building wheel for qiskit (setup.py): finished with status 'done'\n",
      "  Created wheel for qiskit: filename=qiskit-0.42.0-py3-none-any.whl size=12920 sha256=8a95e5f3a7d2cd2dd2285adf7e7950e624a121001cc1abd06df43fed1ff89d8b\n",
      "  Stored in directory: c:\\users\\rauni\\appdata\\local\\pip\\cache\\wheels\\e4\\4f\\33\\a48152b8216ba8d0c81b13a09f9f0fb672268100d4de8099fe\n",
      "Successfully built qiskit\n",
      "Installing collected packages: ply, websockets, websocket-client, pbr, ntlm-auth, stevedore, requests-ntlm, qiskit-terra, qiskit-ibmq-provider, qiskit-aer, qiskit\n",
      "  Attempting uninstall: websocket-client\n",
      "    Found existing installation: websocket-client 0.58.0\n",
      "    Uninstalling websocket-client-0.58.0:\n",
      "      Successfully uninstalled websocket-client-0.58.0\n",
      "Successfully installed ntlm-auth-1.5.0 pbr-5.11.1 ply-3.11 qiskit-0.42.0 qiskit-aer-0.12.0 qiskit-ibmq-provider-0.20.2 qiskit-terra-0.23.2 requests-ntlm-1.1.0 stevedore-5.0.0 websocket-client-1.5.1 websockets-10.4\n",
      "Note: you may need to restart the kernel to use updated packages.\n"
     ]
    }
   ],
   "source": [
    "pip install qiskit"
   ]
  },
  {
   "cell_type": "code",
   "execution_count": null,
   "id": "3b11a90f",
   "metadata": {},
   "outputs": [],
   "source": []
  }
 ],
 "metadata": {
  "kernelspec": {
   "display_name": "Python 3 (ipykernel)",
   "language": "python",
   "name": "python3"
  },
  "language_info": {
   "codemirror_mode": {
    "name": "ipython",
    "version": 3
   },
   "file_extension": ".py",
   "mimetype": "text/x-python",
   "name": "python",
   "nbconvert_exporter": "python",
   "pygments_lexer": "ipython3",
   "version": "3.9.13"
  }
 },
 "nbformat": 4,
 "nbformat_minor": 5
}
